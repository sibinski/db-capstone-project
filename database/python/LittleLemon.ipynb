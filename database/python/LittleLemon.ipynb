{
 "cells": [
  {
   "cell_type": "code",
   "execution_count": 1,
   "id": "b259388b",
   "metadata": {},
   "outputs": [
    {
     "name": "stdout",
     "output_type": "stream",
     "text": [
      "Requirement already satisfied: mysql-connector-python in c:\\users\\jevge\\anaconda3\\lib\\site-packages (9.0.0)\n"
     ]
    }
   ],
   "source": [
    "!pip install mysql-connector-python\n",
    "import mysql.connector as connector"
   ]
  },
  {
   "cell_type": "code",
   "execution_count": 2,
   "id": "3c4d548e",
   "metadata": {},
   "outputs": [
    {
     "name": "stdout",
     "output_type": "stream",
     "text": [
      "Tables:  [('Bookings',), ('Customers',), ('DeliveryStatus',), ('MenuItems',), ('Menus',), ('Orders',), ('ordersview',), ('Staff',)]\n"
     ]
    }
   ],
   "source": [
    "try:\n",
    "    connection = connector.connect(user=\"user\", password=\"cats&dogs\", db = \"LittleLemonDB\")\n",
    "    cursor = connection.cursor()\n",
    "    cursor.execute(\"SHOW TABLES;\")\n",
    "    results = cursor.fetchall()\n",
    "    print(\"Tables: \", results)\n",
    "except connector.Error as err:\n",
    "    print(\"Error:\", err)"
   ]
  },
  {
   "cell_type": "code",
   "execution_count": 10,
   "id": "84bc695b",
   "metadata": {},
   "outputs": [
    {
     "name": "stdout",
     "output_type": "stream",
     "text": [
      "Full Name            | Country              | City                 | Postal Code          | Bill Amount, $      \n",
      "----------------------------------------------------------------------------------------------------------------\n",
      "Laney Fadden         | China                | Daruoyan             | 993-0031             | 187.50              \n",
      "Giacopo Bramich      | North Korea          | Ongjin               | 216282               | 352.50              \n",
      "Tasia Fautly         | Libya                | Tobruk               | 351 01               | 112.50              \n",
      "Lia Bonar            | Peru                 | Quince Mil           | 663246               | 330.00              \n",
      "Merrill Baudon       | Japan                | Susaki               | 987-0352             | 480.00              \n"
     ]
    }
   ],
   "source": [
    "customer_data_query = \"\"\"\n",
    "SELECT Customers.FullName AS 'Full Name', Customers.Country, Customers.City, Customers.PostalCode AS 'Postal Code', Orders.TotalCost AS 'Bill Amount, $'\n",
    "FROM Customers\n",
    "INNER JOIN Orders ON Orders.CustomerID = Customers.CustomerID \n",
    "WHERE Orders.TotalCost > 60;\n",
    "\"\"\"\n",
    "cursor.execute(customer_data_query)\n",
    "columns = [column[0] for column in cursor.description]\n",
    "results = cursor.fetchall()\n",
    "# Define a fixed column width\n",
    "col_width = 20\n",
    "\n",
    "# Print the headers\n",
    "header = \" | \".join(f\"{col:<{col_width}}\" for col in columns)\n",
    "print(header)\n",
    "print(\"-\" * len(header))\n",
    "\n",
    "# Print the rows\n",
    "for row in results:\n",
    "    print(\" | \".join(f\"{str(value):<{col_width}}\" for value in row))"
   ]
  },
  {
   "cell_type": "code",
   "execution_count": null,
   "id": "5918837a",
   "metadata": {},
   "outputs": [],
   "source": []
  }
 ],
 "metadata": {
  "kernelspec": {
   "display_name": "Python 3",
   "language": "python",
   "name": "python3"
  },
  "language_info": {
   "codemirror_mode": {
    "name": "ipython",
    "version": 3
   },
   "file_extension": ".py",
   "mimetype": "text/x-python",
   "name": "python",
   "nbconvert_exporter": "python",
   "pygments_lexer": "ipython3",
   "version": "3.9.13"
  }
 },
 "nbformat": 4,
 "nbformat_minor": 5
}
